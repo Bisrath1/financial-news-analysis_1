{
 "cells": [
  {
   "cell_type": "code",
   "execution_count": 1,
   "id": "e523bce2",
   "metadata": {},
   "outputs": [],
   "source": [
    "import pandas as pd\n",
    "import talib\n",
    "import matplotlib.pyplot as plt\n",
    "import seaborn as sns"
   ]
  },
  {
   "cell_type": "code",
   "execution_count": 3,
   "id": "2e264ad7",
   "metadata": {},
   "outputs": [],
   "source": [
    "# Load stock price data\n",
    "stock_data = pd.read_csv('../data/stock_prices.csv', parse_dates=['Date'])"
   ]
  },
  {
   "cell_type": "code",
   "execution_count": 4,
   "id": "23a28e3a",
   "metadata": {},
   "outputs": [],
   "source": [
    "# Function to calculate indicators for a single stock\n",
    "def calculate_technical_indicators(df, ticker):\n",
    "    # Filter data for the ticker\n",
    "    df_ticker = df[df['Stock'] == ticker].copy()\n",
    "\n",
    "    # Calculate Simple Moving Average (SMA, 20-day)\n",
    "    df_ticker['SMA_20'] = talib.SMA(df_ticker['Close'], timeperiod=20)\n",
    "\n",
    "    # Calculate Relative Strength Index (RSI, 14-day)\n",
    "    df_ticker['RSI_14'] = talib.RSI(df_ticker['Close'], timeperiod=14)\n",
    "\n",
    "    # Calculate MACD (12, 26, 9)\n",
    "    df_ticker['MACD'], df_ticker['MACD_Signal'], df_ticker['MACD_Hist'] = talib.MACD(\n",
    "        df_ticker['Close'], fastperiod=12, slowperiod=26, signalperiod=9\n",
    "    )\n",
    "\n",
    "    return df_ticker"
   ]
  },
  {
   "cell_type": "code",
   "execution_count": 5,
   "id": "b9cbceb9",
   "metadata": {},
   "outputs": [
    {
     "name": "stdout",
     "output_type": "stream",
     "text": [
      "Technical indicators saved to '../data/stock_indicators.csv'\n"
     ]
    }
   ],
   "source": [
    "# Calculate indicators for all unique tickers\n",
    "tickers = stock_data['Stock'].unique()\n",
    "all_indicators = []\n",
    "for ticker in tickers:\n",
    "    df_indicators = calculate_technical_indicators(stock_data, ticker)\n",
    "    all_indicators.append(df_indicators)\n",
    "\n",
    "# Combine results\n",
    "result_df = pd.concat(all_indicators, ignore_index=True)\n",
    "\n",
    "# Save results\n",
    "result_df.to_csv('../data/stock_indicators.csv', index=False)\n",
    "print(\"Technical indicators saved to '../data/stock_indicators.csv'\")"
   ]
  },
  {
   "cell_type": "code",
   "execution_count": null,
   "id": "e77f139f",
   "metadata": {},
   "outputs": [],
   "source": []
  }
 ],
 "metadata": {
  "kernelspec": {
   "display_name": "venv",
   "language": "python",
   "name": "python3"
  },
  "language_info": {
   "codemirror_mode": {
    "name": "ipython",
    "version": 3
   },
   "file_extension": ".py",
   "mimetype": "text/x-python",
   "name": "python",
   "nbconvert_exporter": "python",
   "pygments_lexer": "ipython3",
   "version": "3.11.9"
  }
 },
 "nbformat": 4,
 "nbformat_minor": 5
}
