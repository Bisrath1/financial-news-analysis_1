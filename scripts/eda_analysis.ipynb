{
 "cells": [
  {
   "cell_type": "code",
   "execution_count": 1,
   "id": "61b3e14e",
   "metadata": {},
   "outputs": [],
   "source": [
    "import pandas as pd\n",
    "import nltk\n",
    "from textblob import TextBlob\n",
    "import matplotlib.pyplot as plt\n",
    "import seaborn as sns\n",
    "from collections import Counter\n",
    "from datetime import datetime"
   ]
  },
  {
   "cell_type": "code",
   "execution_count": 2,
   "id": "b03858a3",
   "metadata": {},
   "outputs": [
    {
     "name": "stderr",
     "output_type": "stream",
     "text": [
      "[nltk_data] Downloading package punkt to\n",
      "[nltk_data]     C:\\Users\\user\\AppData\\Roaming\\nltk_data...\n",
      "[nltk_data]   Package punkt is already up-to-date!\n",
      "[nltk_data] Downloading package stopwords to\n",
      "[nltk_data]     C:\\Users\\user\\AppData\\Roaming\\nltk_data...\n",
      "[nltk_data]   Package stopwords is already up-to-date!\n"
     ]
    },
    {
     "data": {
      "text/plain": [
       "True"
      ]
     },
     "execution_count": 2,
     "metadata": {},
     "output_type": "execute_result"
    }
   ],
   "source": [
    "# Download NLTK data\n",
    "nltk.download('punkt')\n",
    "nltk.download('stopwords')"
   ]
  },
  {
   "cell_type": "code",
   "execution_count": 18,
   "id": "d7b8620c",
   "metadata": {},
   "outputs": [],
   "source": [
    "\n",
    "df = pd.read_csv(r\"C:\\10x AIMastery\\Data\\raw_analyst_ratings.csv\")"
   ]
  },
  {
   "cell_type": "code",
   "execution_count": 19,
   "id": "82f24659",
   "metadata": {},
   "outputs": [
    {
     "name": "stdout",
     "output_type": "stream",
     "text": [
      "Headline Length Statistics:\n",
      "count    1.407328e+06\n",
      "mean     7.312051e+01\n",
      "std      4.073531e+01\n",
      "min      3.000000e+00\n",
      "25%      4.700000e+01\n",
      "50%      6.400000e+01\n",
      "75%      8.700000e+01\n",
      "max      5.120000e+02\n",
      "Name: headline_length, dtype: float64\n"
     ]
    }
   ],
   "source": [
    "# Descriptive Statistics\n",
    "# 1. Headline length\n",
    "df['headline_length'] = df['headline'].apply(len)\n",
    "print(\"Headline Length Statistics:\")\n",
    "print(df['headline_length'].describe())"
   ]
  },
  {
   "cell_type": "code",
   "execution_count": 20,
   "id": "730f3331",
   "metadata": {},
   "outputs": [
    {
     "name": "stdout",
     "output_type": "stream",
     "text": [
      "\n",
      "Articles per Publisher:\n",
      "publisher\n",
      "Paul Quintaro        228373\n",
      "Lisa Levin           186979\n",
      "Benzinga Newsdesk    150484\n",
      "Charles Gross         96732\n",
      "Monica Gerson         82380\n",
      "Eddie Staley          57254\n",
      "Hal Lindon            49047\n",
      "ETF Professor         28489\n",
      "Juan Lopez            28438\n",
      "Benzinga Staff        28114\n",
      "Name: count, dtype: int64\n"
     ]
    }
   ],
   "source": [
    "# 2. Articles per publisher\n",
    "publisher_counts = df['publisher'].value_counts()\n",
    "print(\"\\nArticles per Publisher:\")\n",
    "print(publisher_counts.head(10))"
   ]
  },
  {
   "cell_type": "code",
   "execution_count": 23,
   "id": "1ff46c81",
   "metadata": {},
   "outputs": [],
   "source": [
    "# 3. Publication date trends\n",
    "df['date'] = pd.to_datetime(df['date'], format='ISO8601')\n",
    "df['date_only'] = df['date'].dt.date\n",
    "date_counts = df['date_only'].value_counts().sort_index()\n",
    "plt.figure(figsize=(10, 6))\n",
    "date_counts.plot()\n",
    "plt.title('Article Publication Frequency Over Time')\n",
    "plt.xlabel('Date')\n",
    "plt.ylabel('Number of Articles')\n",
    "plt.savefig(r\"C:\\10x AIMastery\\financial-news-analysis_1\\notebooks\\publication_trend.png\")\n",
    "plt.close()"
   ]
  },
  {
   "cell_type": "code",
   "execution_count": 25,
   "id": "1b49d72b",
   "metadata": {},
   "outputs": [
    {
     "name": "stdout",
     "output_type": "stream",
     "text": [
      "\n",
      "Top 10 Keywords:\n",
      "[('stocks', 161702), ('vs', 138835), ('eps', 128801), ('est', 122289), ('shares', 114140), ('reports', 108688), ('update', 91645), ('market', 91080), ('earnings', 87183), ('sales', 79528)]\n"
     ]
    }
   ],
   "source": [
    "# Text Analysis (Topic Modeling - Basic Keyword Extraction)\n",
    "stop_words = set(nltk.corpus.stopwords.words('english'))\n",
    "def extract_keywords(text):\n",
    "    words = nltk.word_tokenize(text.lower())\n",
    "    return [word for word in words if word.isalnum() and word not in stop_words]\n",
    "\n",
    "df['keywords'] = df['headline'].apply(extract_keywords)\n",
    "all_keywords = [keyword for keywords in df['keywords'] for keyword in keywords]\n",
    "keyword_counts = Counter(all_keywords)\n",
    "print(\"\\nTop 10 Keywords:\")\n",
    "print(keyword_counts.most_common(10))"
   ]
  },
  {
   "cell_type": "code",
   "execution_count": 26,
   "id": "bdcbc637",
   "metadata": {},
   "outputs": [],
   "source": [
    "# Time Series Analysis (Publication time)\n",
    "df['hour'] = df['date'].dt.hour\n",
    "hour_counts = df['hour'].value_counts().sort_index()\n",
    "plt.figure(figsize=(10, 6))\n",
    "sns.barplot(x=hour_counts.index, y=hour_counts.values)\n",
    "plt.title('Article Publication by Hour')\n",
    "plt.xlabel('Hour of Day (UTC)')\n",
    "plt.ylabel('Number of Articles')\n",
    "plt.savefig(r\"C:\\10x AIMastery\\financial-news-analysis_1\\notebooks\\publication_hour.png\")\n",
    "plt.close()"
   ]
  },
  {
   "cell_type": "code",
   "execution_count": 27,
   "id": "7b27acf5",
   "metadata": {},
   "outputs": [
    {
     "name": "stdout",
     "output_type": "stream",
     "text": [
      "\n",
      "Top 10 Publisher Domains:\n",
      "publisher_domain\n",
      "Paul Quintaro        228373\n",
      "Lisa Levin           186979\n",
      "Benzinga Newsdesk    150484\n",
      "Charles Gross         96732\n",
      "Monica Gerson         82380\n",
      "Eddie Staley          57254\n",
      "Hal Lindon            49047\n",
      "ETF Professor         28489\n",
      "Juan Lopez            28438\n",
      "Benzinga Staff        28114\n",
      "Name: count, dtype: int64\n"
     ]
    }
   ],
   "source": [
    "# Publisher Analysis (Domain Extraction if emails are used)\n",
    "def extract_domain(publisher):\n",
    "    if '@' in publisher:\n",
    "        return publisher.split('@')[-1]\n",
    "    return publisher\n",
    "\n",
    "df['publisher_domain'] = df['publisher'].apply(extract_domain)\n",
    "domain_counts = df['publisher_domain'].value_counts()\n",
    "print(\"\\nTop 10 Publisher Domains:\")\n",
    "print(domain_counts.head(10))"
   ]
  },
  {
   "cell_type": "code",
   "execution_count": null,
   "id": "4bb71503",
   "metadata": {},
   "outputs": [],
   "source": []
  }
 ],
 "metadata": {
  "kernelspec": {
   "display_name": "venv",
   "language": "python",
   "name": "python3"
  },
  "language_info": {
   "codemirror_mode": {
    "name": "ipython",
    "version": 3
   },
   "file_extension": ".py",
   "mimetype": "text/x-python",
   "name": "python",
   "nbconvert_exporter": "python",
   "pygments_lexer": "ipython3",
   "version": "3.11.9"
  }
 },
 "nbformat": 4,
 "nbformat_minor": 5
}
