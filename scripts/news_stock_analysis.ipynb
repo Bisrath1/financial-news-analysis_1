{
 "cells": [
  {
   "cell_type": "code",
   "execution_count": 1,
   "id": "f50a42d9",
   "metadata": {},
   "outputs": [],
   "source": [
    "import pandas as pd\n",
    "from textblob import TextBlob\n",
    "from scipy.stats import pearsonr\n"
   ]
  },
  {
   "cell_type": "code",
   "execution_count": 5,
   "id": "fa0d1231",
   "metadata": {},
   "outputs": [],
   "source": [
    "# Load datasets\n",
    "news_df = pd.read_csv('../data/raw_analyst_ratings.csv', parse_dates=['date'])\n",
    "stock_df = pd.read_csv('../data/stock_metrics.csv', parse_dates=['Date'])\n",
    "\n",
    "# Ensure 'date' column is datetime\n",
    "news_df['date'] = pd.to_datetime(news_df['date'], errors='coerce')\n",
    "stock_df['Date'] = pd.to_datetime(stock_df['Date'], errors='coerce')\n",
    "\n",
    "# Normalize dates (remove time component)\n",
    "news_df['date'] = news_df['date'].dt.date\n",
    "stock_df['Date'] = stock_df['Date'].dt.date\n",
    "\n",
    "# Sentiment analysis on news headlines\n",
    "def get_sentiment(headline):\n",
    "    return TextBlob(str(headline)).sentiment.polarity  # Returns score from -1 (negative) to 1 (positive)\n",
    "\n",
    "news_df['Sentiment'] = news_df['headline'].apply(get_sentiment)"
   ]
  },
  {
   "cell_type": "code",
   "execution_count": 6,
   "id": "055feed1",
   "metadata": {},
   "outputs": [
    {
     "name": "stdout",
     "output_type": "stream",
     "text": [
      "Warning: Insufficient data for TSLA\n",
      "Merged data saved to '../data/news_stock_merged.csv'\n",
      "Correlations saved to '../data/correlations.csv'\n",
      "Correlation results: {'AAPL': np.float64(-1.0), 'AMZN': np.float64(-1.0), 'GOOG': np.float64(-0.08944881499680815), 'NVDA': np.float64(0.17571428527519445), 'TSLA': None}\n"
     ]
    }
   ],
   "source": [
    "# Aggregate daily sentiment scores per stock\n",
    "daily_sentiment = news_df.groupby(['stock', 'date'])['Sentiment'].mean().reset_index()\n",
    "daily_sentiment.rename(columns={'stock': 'Stock', 'date': 'Date'}, inplace=True)\n",
    "\n",
    "# Merge news sentiment with stock data\n",
    "merged_df = pd.merge(\n",
    "    daily_sentiment,\n",
    "    stock_df[['Date', 'Stock', 'Daily_Return']],\n",
    "    on=['Date', 'Stock'],\n",
    "    how='inner'\n",
    ")\n",
    "\n",
    "# Calculate Pearson correlation per stock\n",
    "tickers = merged_df['Stock'].unique()\n",
    "correlations = {}\n",
    "for ticker in tickers:\n",
    "    df_ticker = merged_df[merged_df['Stock'] == ticker]\n",
    "    if len(df_ticker) > 1:  # Need at least 2 data points for correlation\n",
    "        corr, _ = pearsonr(df_ticker['Sentiment'], df_ticker['Daily_Return'])\n",
    "        correlations[ticker] = corr\n",
    "    else:\n",
    "        correlations[ticker] = None\n",
    "        print(f\"Warning: Insufficient data for {ticker}\")\n",
    "\n",
    "# Save merged data and correlations\n",
    "merged_df.to_csv('../data/news_stock_merged.csv', index=False)\n",
    "pd.DataFrame.from_dict(correlations, orient='index', columns=['Correlation']).to_csv('../data/correlations.csv')\n",
    "\n",
    "print(\"Merged data saved to '../data/news_stock_merged.csv'\")\n",
    "print(\"Correlations saved to '../data/correlations.csv'\")\n",
    "print(\"Correlation results:\", correlations)"
   ]
  },
  {
   "cell_type": "code",
   "execution_count": null,
   "id": "64a4fa31",
   "metadata": {},
   "outputs": [],
   "source": []
  }
 ],
 "metadata": {
  "kernelspec": {
   "display_name": "venv",
   "language": "python",
   "name": "python3"
  },
  "language_info": {
   "codemirror_mode": {
    "name": "ipython",
    "version": 3
   },
   "file_extension": ".py",
   "mimetype": "text/x-python",
   "name": "python",
   "nbconvert_exporter": "python",
   "pygments_lexer": "ipython3",
   "version": "3.11.9"
  }
 },
 "nbformat": 4,
 "nbformat_minor": 5
}
