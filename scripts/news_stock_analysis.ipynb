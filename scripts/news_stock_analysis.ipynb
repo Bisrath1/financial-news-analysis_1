{
 "cells": [
  {
   "cell_type": "code",
   "execution_count": 1,
   "id": "f50a42d9",
   "metadata": {},
   "outputs": [],
   "source": [
    "import pandas as pd\n",
    "from textblob import TextBlob\n",
    "from scipy.stats import pearsonr\n"
   ]
  },
  {
   "cell_type": "code",
   "execution_count": 5,
   "id": "fa0d1231",
   "metadata": {},
   "outputs": [],
   "source": [
    "# Load datasets\n",
    "news_df = pd.read_csv('../data/raw_analyst_ratings.csv', parse_dates=['date'])\n",
    "stock_df = pd.read_csv('../data/stock_metrics.csv', parse_dates=['Date'])\n",
    "\n",
    "# Ensure 'date' column is datetime\n",
    "news_df['date'] = pd.to_datetime(news_df['date'], errors='coerce')\n",
    "stock_df['Date'] = pd.to_datetime(stock_df['Date'], errors='coerce')\n",
    "\n",
    "# Normalize dates (remove time component)\n",
    "news_df['date'] = news_df['date'].dt.date\n",
    "stock_df['Date'] = stock_df['Date'].dt.date\n",
    "\n",
    "# Sentiment analysis on news headlines\n",
    "def get_sentiment(headline):\n",
    "    return TextBlob(str(headline)).sentiment.polarity  # Returns score from -1 (negative) to 1 (positive)\n",
    "\n",
    "news_df['Sentiment'] = news_df['headline'].apply(get_sentiment)"
   ]
  },
  {
   "cell_type": "code",
   "execution_count": null,
   "id": "055feed1",
   "metadata": {},
   "outputs": [],
   "source": []
  }
 ],
 "metadata": {
  "kernelspec": {
   "display_name": "venv",
   "language": "python",
   "name": "python3"
  },
  "language_info": {
   "codemirror_mode": {
    "name": "ipython",
    "version": 3
   },
   "file_extension": ".py",
   "mimetype": "text/x-python",
   "name": "python",
   "nbconvert_exporter": "python",
   "pygments_lexer": "ipython3",
   "version": "3.11.9"
  }
 },
 "nbformat": 4,
 "nbformat_minor": 5
}
