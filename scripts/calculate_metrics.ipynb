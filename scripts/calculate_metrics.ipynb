{
 "cells": [
  {
   "cell_type": "code",
   "execution_count": 1,
   "id": "37c42b16",
   "metadata": {},
   "outputs": [
    {
     "name": "stdout",
     "output_type": "stream",
     "text": [
      "Financial metrics saved to '../data/stock_metrics.csv'\n"
     ]
    }
   ],
   "source": [
    "import pandas as pd\n",
    "\n",
    "# Load stock data with indicators\n",
    "df = pd.read_csv('../data/stock_indicators.csv', parse_dates=['Date'])\n",
    "\n",
    "# Calculate daily returns\n",
    "df['Daily_Return'] = df.groupby('Stock')['Close'].pct_change()\n",
    "\n",
    "# Calculate volatility (standard deviation of daily returns, 20-day rolling)\n",
    "df['Volatility_20'] = df.groupby('Stock')['Daily_Return'].transform(lambda x: x.rolling(window=20).std())\n",
    "\n",
    "# Save results\n",
    "df.to_csv('../data/stock_metrics.csv', index=False)\n",
    "print(\"Financial metrics saved to '../data/stock_metrics.csv'\")"
   ]
  },
  {
   "cell_type": "code",
   "execution_count": null,
   "id": "f9690000",
   "metadata": {},
   "outputs": [],
   "source": []
  }
 ],
 "metadata": {
  "kernelspec": {
   "display_name": "venv",
   "language": "python",
   "name": "python3"
  },
  "language_info": {
   "codemirror_mode": {
    "name": "ipython",
    "version": 3
   },
   "file_extension": ".py",
   "mimetype": "text/x-python",
   "name": "python",
   "nbconvert_exporter": "python",
   "pygments_lexer": "ipython3",
   "version": "3.11.9"
  }
 },
 "nbformat": 4,
 "nbformat_minor": 5
}
