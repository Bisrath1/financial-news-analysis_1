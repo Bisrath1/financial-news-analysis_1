{
 "cells": [
  {
   "cell_type": "code",
   "execution_count": 10,
   "id": "0c2aed8e",
   "metadata": {},
   "outputs": [],
   "source": [
    "import pandas as pd\n",
    "import os"
   ]
  },
  {
   "cell_type": "code",
   "execution_count": 11,
   "id": "46a4d173",
   "metadata": {},
   "outputs": [],
   "source": [
    "# Define the list of tickers based on provided CSV files\n",
    "tickers = ['AAPL', 'AMZN', 'GOOG', 'META', 'MSFT', 'NVDA', 'TSLA']\n"
   ]
  },
  {
   "cell_type": "code",
   "execution_count": 12,
   "id": "98a4a95a",
   "metadata": {},
   "outputs": [],
   "source": [
    "# Load and combine stock data\n",
    "stock_data = []\n",
    "for ticker in tickers:\n",
    "    file_path = f'../data/{ticker}_historical_data.csv'\n",
    "    if os.path.exists(file_path):\n",
    "        df = pd.read_csv(file_path, parse_dates=['Date'])\n",
    "        # Ensure required columns\n",
    "        required_cols = ['Date', 'Open', 'High', 'Low', 'Close', 'Volume']\n",
    "        if all(col in df.columns for col in required_cols):\n",
    "            df['Stock'] = ticker\n",
    "            stock_data.append(df[required_cols + ['Stock']])\n",
    "        else:\n",
    "            print(f\"Warning: {file_path} missing required columns\")\n",
    "    else:\n",
    "        print(f\"Warning: {file_path} not found\")\n"
   ]
  },
  {
   "cell_type": "code",
   "execution_count": 13,
   "id": "df87cfc0",
   "metadata": {},
   "outputs": [
    {
     "name": "stdout",
     "output_type": "stream",
     "text": [
      "Combined stock data saved to '../data/stock_prices.csv'\n"
     ]
    }
   ],
   "source": [
    "# Combine all stock data\n",
    "if stock_data:\n",
    "    all_stock_data = pd.concat(stock_data, ignore_index=True)\n",
    "    all_stock_data.to_csv('../data/stock_prices.csv', index=False)\n",
    "    print(\"Combined stock data saved to '../data/stock_prices.csv'\")\n",
    "else:\n",
    "    print(\"Error: No valid stock data files found\")"
   ]
  },
  {
   "cell_type": "code",
   "execution_count": null,
   "id": "82bf6b55",
   "metadata": {},
   "outputs": [],
   "source": []
  },
  {
   "cell_type": "code",
   "execution_count": null,
   "id": "06195d6f",
   "metadata": {},
   "outputs": [],
   "source": []
  }
 ],
 "metadata": {
  "kernelspec": {
   "display_name": "venv",
   "language": "python",
   "name": "python3"
  },
  "language_info": {
   "codemirror_mode": {
    "name": "ipython",
    "version": 3
   },
   "file_extension": ".py",
   "mimetype": "text/x-python",
   "name": "python",
   "nbconvert_exporter": "python",
   "pygments_lexer": "ipython3",
   "version": "3.11.9"
  }
 },
 "nbformat": 4,
 "nbformat_minor": 5
}
